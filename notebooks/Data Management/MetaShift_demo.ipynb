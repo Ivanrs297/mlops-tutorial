{
  "nbformat": 4,
  "nbformat_minor": 0,
  "metadata": {
    "colab": {
      "provenance": [],
      "gpuType": "T4"
    },
    "kernelspec": {
      "name": "python3",
      "display_name": "Python 3"
    },
    "language_info": {
      "name": "python"
    },
    "accelerator": "GPU"
  },
  "cells": [
    {
      "cell_type": "markdown",
      "source": [
        "# *Domain Shift Experiments using Metashift dataset*\n",
        "\n",
        "https://arxiv.org/pdf/2202.06523.pdf\n",
        "\n",
        "https://metashift.readthedocs.io/en/latest/index.html\n",
        "\n"
      ],
      "metadata": {
        "id": "0GhOYaYZzGvy"
      }
    },
    {
      "cell_type": "code",
      "execution_count": 2,
      "metadata": {
        "colab": {
          "base_uri": "https://localhost:8080/",
          "height": 122
        },
        "id": "KsKF3GM80ExK",
        "outputId": "1a3b7d5d-e5bb-4df0-8e23-7f343a681107"
      },
      "outputs": [
        {
          "output_type": "stream",
          "name": "stdout",
          "text": [
            "/content/Dataset\n"
          ]
        },
        {
          "output_type": "stream",
          "name": "stderr",
          "text": [
            "Downloading...\n",
            "From: https://drive.google.com/uc?id=1oZjtaDOJrBaEYN0IQ2XxR4tNm5wphuSe\n",
            "To: /content/Dataset/metashift_dataset.zip\n",
            "100%|██████████| 784M/784M [00:08<00:00, 88.3MB/s]\n"
          ]
        },
        {
          "output_type": "execute_result",
          "data": {
            "text/plain": [
              "'metashift_dataset.zip'"
            ],
            "application/vnd.google.colaboratory.intrinsic+json": {
              "type": "string"
            }
          },
          "metadata": {},
          "execution_count": 2
        }
      ],
      "source": [
        "#Download Curated Metashift Dataset\n",
        "import gdown\n",
        "id = \"1oZjtaDOJrBaEYN0IQ2XxR4tNm5wphuSe\"\n",
        "output = \"metashift_dataset.zip\"\n",
        "!mkdir Dataset\n",
        "%cd Dataset\n",
        "gdown.download(id = id, output = output, quiet=False, fuzzy=True)"
      ]
    },
    {
      "cell_type": "code",
      "source": [
        "#Extract dataset\n",
        "!unzip metashift_dataset.zip\n",
        "#Remove Zip File\n",
        "!rm metashift_dataset.zip\n",
        "%cd .."
      ],
      "metadata": {
        "colab": {
          "base_uri": "https://localhost:8080/"
        },
        "id": "aaeiiCez0NOk",
        "outputId": "8ba98771-514b-40ba-b54e-e867b513035d"
      },
      "execution_count": 9,
      "outputs": [
        {
          "output_type": "stream",
          "name": "stdout",
          "text": [
            "unzip:  cannot find or open metashift_dataset.zip, metashift_dataset.zip.zip or metashift_dataset.zip.ZIP.\n"
          ]
        }
      ]
    },
    {
      "cell_type": "code",
      "source": [
        "#Download Metashift GitHub code\n",
        "!git clone https://github.com/Weixin-Liang/MetaShift.git"
      ],
      "metadata": {
        "colab": {
          "base_uri": "https://localhost:8080/"
        },
        "id": "XztHqcMo23J9",
        "outputId": "5f4eb8c5-d3d1-4946-faa7-52f4eba1e2bb"
      },
      "execution_count": 6,
      "outputs": [
        {
          "output_type": "stream",
          "name": "stdout",
          "text": [
            "Cloning into 'MetaShift'...\n",
            "remote: Enumerating objects: 138, done.\u001b[K\n",
            "remote: Counting objects: 100% (138/138), done.\u001b[K\n",
            "remote: Compressing objects: 100% (104/104), done.\u001b[K\n",
            "remote: Total 138 (delta 55), reused 109 (delta 29), pack-reused 0\u001b[K\n",
            "Receiving objects: 100% (138/138), 9.33 MiB | 11.36 MiB/s, done.\n",
            "Resolving deltas: 100% (55/55), done.\n"
          ]
        }
      ]
    },
    {
      "cell_type": "code",
      "source": [
        "%cd MetaShift/experiments/distribution_shift\n",
        "!CUDA_VISIBLE_DEVICES=1\n",
        "!python main_generalization.py --num-domains 2 --algorithm CDANN --data /content/Dataset/MetaShift/MetaShift-subpopulation-shift/"
      ],
      "metadata": {
        "colab": {
          "base_uri": "https://localhost:8080/"
        },
        "id": "nBJoCA2y8XmS",
        "outputId": "6252dac8-2bf2-4355-f388-92ea5ac486ef"
      },
      "execution_count": 1,
      "outputs": [
        {
          "output_type": "stream",
          "name": "stdout",
          "text": [
            "/content/MetaShift/experiments/distribution_shift\n",
            "Environment:\n",
            "\tPython: 3.10.12\n",
            "\tPyTorch: 2.1.0+cu118\n",
            "\tTorchvision: 0.16.0+cu118\n",
            "\tCUDA: 11.8\n",
            "\tCUDNN: 8700\n",
            "\tNumPy: 1.23.5\n",
            "\tPIL: 9.4.0\n",
            "Args:\n",
            "\talgorithm: CDANN\n",
            "\tbatch_size: 8\n",
            "\tdata: /content/Dataset/MetaShift/MetaShift-subpopulation-shift/\n",
            "\thparams: None\n",
            "\thparams_seed: 0\n",
            "\tlog_prefix: \n",
            "\tnum_classes: 2\n",
            "\tnum_domains: 2\n",
            "\toutput_dir: train_output\n",
            "\tsave_model_every_checkpoint: False\n",
            "\tseed: 0\n",
            "\tskip_model_save: False\n",
            "\tworkers: 4\n",
            "train_dataset.samples reverse: [('cat(indoor)', 750), ('dog(outdoor)', 750), ('cat(outdoor)', 100), ('dog(indoor)', 100)]\n",
            "self.domain_to_groups {0: {'cat': ['cat(indoor)'], 'dog': ['dog(indoor)']}, 1: {'cat': ['cat(outdoor)'], 'dog': ['dog(outdoor)']}}\n",
            "/usr/local/lib/python3.10/dist-packages/torch/utils/data/dataloader.py:557: UserWarning: This DataLoader will create 4 worker processes in total. Our suggested max number of worker in current system is 2, which is smaller than what this DataLoader is going to create. Please be aware that excessive worker creation might get DataLoader running slow or even freeze, lower the worker number to avoid potential slowness/freeze if necessary.\n",
            "  warnings.warn(_create_warning_msg(\n",
            "HParams:\n",
            "\tbatch_size: 32\n",
            "\tbeta1: 0.5\n",
            "\tclass_balanced: False\n",
            "\td_steps_per_g_step: 1\n",
            "\tdata_augmentation: True\n",
            "\tgrad_penalty: 0.0\n",
            "\tlambda: 1.0\n",
            "\tlr: 5e-05\n",
            "\tlr_d: 5e-05\n",
            "\tlr_g: 5e-05\n",
            "\tmlp_depth: 3\n",
            "\tmlp_dropout: 0.0\n",
            "\tmlp_width: 256\n",
            "\tnonlinear_classifier: False\n",
            "\tresnet18: True\n",
            "\tresnet_dropout: 0.0\n",
            "\tweight_decay: 0.0\n",
            "\tweight_decay_d: 0.0\n",
            "\tweight_decay_g: 0.0\n",
            "/usr/local/lib/python3.10/dist-packages/torchvision/models/_utils.py:208: UserWarning: The parameter 'pretrained' is deprecated since 0.13 and may be removed in the future, please use 'weights' instead.\n",
            "  warnings.warn(\n",
            "/usr/local/lib/python3.10/dist-packages/torchvision/models/_utils.py:223: UserWarning: Arguments other than a weight enum or `None` for 'weights' are deprecated since 0.13 and may be removed in the future. The current behavior is equivalent to passing `weights=ResNet18_Weights.IMAGENET1K_V1`. You can also use `weights=ResNet18_Weights.DEFAULT` to get the most up-to-date weights.\n",
            "  warnings.warn(msg)\n",
            "step_vals {'gen_loss': 0.08044964075088501}\n",
            "Iteration: 0\n",
            "out-of-domain val\n",
            "accuracy 0.545 \t roc_auc_score 0.644\n",
            "confusion_matrix\n",
            "[[ 53 235]\n",
            " [ 27 261]]\n",
            "classification_report\n",
            "              precision    recall  f1-score   support\n",
            "\n",
            "           0       0.66      0.18      0.29       288\n",
            "           1       0.53      0.91      0.67       288\n",
            "\n",
            "    accuracy                           0.55       576\n",
            "   macro avg       0.59      0.55      0.48       576\n",
            "weighted avg       0.59      0.55      0.48       576\n",
            "\n",
            "VAL * Acc@1 54.514\n",
            " * Acc@1 54.514 Acc@5 0.000\n",
            "accuracy 0.917 \t size: 144 \t dog(outdoor)\n",
            "accuracy 0.896 \t size: 144 \t dog(indoor)\n",
            "accuracy 0.208 \t size: 144 \t cat(indoor)\n",
            "accuracy 0.160 \t size: 144 \t cat(outdoor)\n",
            "step_vals {'disc_loss': 0.683684229850769}\n",
            "step_vals {'gen_loss': 0.06281745433807373}\n",
            "step_vals {'disc_loss': 0.6874837875366211}\n",
            "step_vals {'gen_loss': -0.03579181432723999}\n",
            "step_vals {'disc_loss': 0.6885429620742798}\n",
            "step_vals {'gen_loss': -0.12834328413009644}\n",
            "step_vals {'disc_loss': 0.6830283403396606}\n",
            "step_vals {'gen_loss': -0.11225509643554688}\n",
            "step_vals {'disc_loss': 0.6605027318000793}\n",
            "step_vals {'gen_loss': -0.1970539391040802}\n",
            "step_vals {'disc_loss': 0.6795235276222229}\n",
            "step_vals {'gen_loss': -0.1753484010696411}\n",
            "step_vals {'disc_loss': 0.6825441718101501}\n",
            "step_vals {'gen_loss': -0.17402654886245728}\n",
            "step_vals {'disc_loss': 0.6822802424430847}\n",
            "step_vals {'gen_loss': -0.21893441677093506}\n",
            "step_vals {'disc_loss': 0.6930601000785828}\n",
            "step_vals {'gen_loss': -0.1288762092590332}\n",
            "step_vals {'disc_loss': 0.6979522705078125}\n",
            "step_vals {'gen_loss': -0.3738824725151062}\n",
            "Iteration: 20\n",
            "out-of-domain val\n",
            "/usr/local/lib/python3.10/dist-packages/torch/utils/data/dataloader.py:557: UserWarning: This DataLoader will create 4 worker processes in total. Our suggested max number of worker in current system is 2, which is smaller than what this DataLoader is going to create. Please be aware that excessive worker creation might get DataLoader running slow or even freeze, lower the worker number to avoid potential slowness/freeze if necessary.\n",
            "  warnings.warn(_create_warning_msg(\n",
            "accuracy 0.724 \t roc_auc_score 0.880\n",
            "confusion_matrix\n",
            "[[139 149]\n",
            " [ 10 278]]\n",
            "classification_report\n",
            "              precision    recall  f1-score   support\n",
            "\n",
            "           0       0.93      0.48      0.64       288\n",
            "           1       0.65      0.97      0.78       288\n",
            "\n",
            "    accuracy                           0.72       576\n",
            "   macro avg       0.79      0.72      0.71       576\n",
            "weighted avg       0.79      0.72      0.71       576\n",
            "\n",
            "VAL * Acc@1 72.396\n",
            " * Acc@1 72.396 Acc@5 0.000\n",
            "accuracy 0.986 \t size: 144 \t dog(outdoor)\n",
            "accuracy 0.944 \t size: 144 \t dog(indoor)\n",
            "accuracy 0.590 \t size: 144 \t cat(indoor)\n",
            "accuracy 0.375 \t size: 144 \t cat(outdoor)\n",
            "step_vals {'disc_loss': 0.6965238451957703}\n",
            "step_vals {'gen_loss': -0.30294427275657654}\n",
            "step_vals {'disc_loss': 0.7002229690551758}\n",
            "step_vals {'gen_loss': -0.06723451614379883}\n",
            "step_vals {'disc_loss': 0.6960192918777466}\n",
            "step_vals {'gen_loss': -0.2437431812286377}\n",
            "step_vals {'disc_loss': 0.6951775550842285}\n",
            "step_vals {'gen_loss': -0.2437640130519867}\n",
            "step_vals {'disc_loss': 0.7131309509277344}\n",
            "step_vals {'gen_loss': -0.2219308316707611}\n",
            "step_vals {'disc_loss': 0.6944602727890015}\n",
            "step_vals {'gen_loss': -0.3208424746990204}\n",
            "step_vals {'disc_loss': 0.6948087215423584}\n",
            "step_vals {'gen_loss': -0.2793484330177307}\n",
            "step_vals {'disc_loss': 0.7095644474029541}\n",
            "step_vals {'gen_loss': -0.3051726520061493}\n",
            "step_vals {'disc_loss': 0.7074639797210693}\n",
            "step_vals {'gen_loss': -0.1451159119606018}\n",
            "step_vals {'disc_loss': 0.685230553150177}\n",
            "step_vals {'gen_loss': -0.13422131538391113}\n",
            "Iteration: 40\n",
            "out-of-domain val\n",
            "/usr/local/lib/python3.10/dist-packages/torch/utils/data/dataloader.py:557: UserWarning: This DataLoader will create 4 worker processes in total. Our suggested max number of worker in current system is 2, which is smaller than what this DataLoader is going to create. Please be aware that excessive worker creation might get DataLoader running slow or even freeze, lower the worker number to avoid potential slowness/freeze if necessary.\n",
            "  warnings.warn(_create_warning_msg(\n",
            "accuracy 0.790 \t roc_auc_score 0.905\n",
            "confusion_matrix\n",
            "[[261  27]\n",
            " [ 94 194]]\n",
            "classification_report\n",
            "              precision    recall  f1-score   support\n",
            "\n",
            "           0       0.74      0.91      0.81       288\n",
            "           1       0.88      0.67      0.76       288\n",
            "\n",
            "    accuracy                           0.79       576\n",
            "   macro avg       0.81      0.79      0.79       576\n",
            "weighted avg       0.81      0.79      0.79       576\n",
            "\n",
            "VAL * Acc@1 78.993\n",
            " * Acc@1 78.993 Acc@5 0.000\n",
            "accuracy 0.931 \t size: 144 \t cat(indoor)\n",
            "accuracy 0.882 \t size: 144 \t cat(outdoor)\n",
            "accuracy 0.806 \t size: 144 \t dog(outdoor)\n",
            "accuracy 0.542 \t size: 144 \t dog(indoor)\n",
            "step_vals {'disc_loss': 0.6981480121612549}\n",
            "step_vals {'gen_loss': -0.3054240047931671}\n",
            "step_vals {'disc_loss': 0.6784670352935791}\n",
            "step_vals {'gen_loss': -0.36333274841308594}\n",
            "step_vals {'disc_loss': 0.7107923626899719}\n",
            "step_vals {'gen_loss': -0.26808619499206543}\n",
            "step_vals {'disc_loss': 0.6882583498954773}\n",
            "step_vals {'gen_loss': -0.3936994969844818}\n",
            "step_vals {'disc_loss': 0.7018780708312988}\n",
            "step_vals {'gen_loss': -0.32103219628334045}\n",
            "step_vals {'disc_loss': 0.7169212698936462}\n",
            "step_vals {'gen_loss': -0.24098622798919678}\n",
            "step_vals {'disc_loss': 0.705936074256897}\n",
            "step_vals {'gen_loss': -0.36838117241859436}\n",
            "step_vals {'disc_loss': 0.7039346098899841}\n",
            "step_vals {'gen_loss': -0.32945752143859863}\n",
            "step_vals {'disc_loss': 0.7225970029830933}\n",
            "step_vals {'gen_loss': -0.2971248924732208}\n",
            "step_vals {'disc_loss': 0.7071881294250488}\n",
            "step_vals {'gen_loss': -0.3234422504901886}\n",
            "Iteration: 60\n",
            "out-of-domain val\n",
            "/usr/local/lib/python3.10/dist-packages/torch/utils/data/dataloader.py:557: UserWarning: This DataLoader will create 4 worker processes in total. Our suggested max number of worker in current system is 2, which is smaller than what this DataLoader is going to create. Please be aware that excessive worker creation might get DataLoader running slow or even freeze, lower the worker number to avoid potential slowness/freeze if necessary.\n",
            "  warnings.warn(_create_warning_msg(\n",
            "accuracy 0.825 \t roc_auc_score 0.914\n",
            "confusion_matrix\n",
            "[[257  31]\n",
            " [ 70 218]]\n",
            "classification_report\n",
            "              precision    recall  f1-score   support\n",
            "\n",
            "           0       0.79      0.89      0.84       288\n",
            "           1       0.88      0.76      0.81       288\n",
            "\n",
            "    accuracy                           0.82       576\n",
            "   macro avg       0.83      0.82      0.82       576\n",
            "weighted avg       0.83      0.82      0.82       576\n",
            "\n",
            "VAL * Acc@1 82.465\n",
            " * Acc@1 82.465 Acc@5 0.000\n",
            "accuracy 0.917 \t size: 144 \t cat(indoor)\n",
            "accuracy 0.868 \t size: 144 \t cat(outdoor)\n",
            "accuracy 0.833 \t size: 144 \t dog(outdoor)\n",
            "accuracy 0.681 \t size: 144 \t dog(indoor)\n",
            "step_vals {'disc_loss': 0.7147676944732666}\n",
            "step_vals {'gen_loss': -0.40975427627563477}\n",
            "step_vals {'disc_loss': 0.745881199836731}\n",
            "step_vals {'gen_loss': 0.20289486646652222}\n",
            "step_vals {'disc_loss': 0.6897133588790894}\n",
            "step_vals {'gen_loss': -0.27988991141319275}\n",
            "step_vals {'disc_loss': 0.7219647765159607}\n",
            "step_vals {'gen_loss': -0.34100526571273804}\n",
            "step_vals {'disc_loss': 0.7191351652145386}\n",
            "step_vals {'gen_loss': -0.35611432790756226}\n",
            "step_vals {'disc_loss': 0.7065612077713013}\n",
            "step_vals {'gen_loss': -0.3550577461719513}\n",
            "step_vals {'disc_loss': 0.7182773351669312}\n",
            "step_vals {'gen_loss': -0.4049065113067627}\n",
            "step_vals {'disc_loss': 0.70176100730896}\n",
            "step_vals {'gen_loss': -0.3392322361469269}\n",
            "step_vals {'disc_loss': 0.7019007205963135}\n",
            "step_vals {'gen_loss': -0.4503239095211029}\n",
            "step_vals {'disc_loss': 0.697529673576355}\n",
            "step_vals {'gen_loss': -0.25857484340667725}\n",
            "Iteration: 80\n",
            "out-of-domain val\n",
            "/usr/local/lib/python3.10/dist-packages/torch/utils/data/dataloader.py:557: UserWarning: This DataLoader will create 4 worker processes in total. Our suggested max number of worker in current system is 2, which is smaller than what this DataLoader is going to create. Please be aware that excessive worker creation might get DataLoader running slow or even freeze, lower the worker number to avoid potential slowness/freeze if necessary.\n",
            "  warnings.warn(_create_warning_msg(\n",
            "accuracy 0.832 \t roc_auc_score 0.919\n",
            "confusion_matrix\n",
            "[[217  71]\n",
            " [ 26 262]]\n",
            "classification_report\n",
            "              precision    recall  f1-score   support\n",
            "\n",
            "           0       0.89      0.75      0.82       288\n",
            "           1       0.79      0.91      0.84       288\n",
            "\n",
            "    accuracy                           0.83       576\n",
            "   macro avg       0.84      0.83      0.83       576\n",
            "weighted avg       0.84      0.83      0.83       576\n",
            "\n",
            "VAL * Acc@1 83.160\n",
            " * Acc@1 83.160 Acc@5 0.000\n",
            "accuracy 0.979 \t size: 144 \t dog(outdoor)\n",
            "accuracy 0.840 \t size: 144 \t dog(indoor)\n",
            "accuracy 0.819 \t size: 144 \t cat(indoor)\n",
            "accuracy 0.688 \t size: 144 \t cat(outdoor)\n"
          ]
        }
      ]
    },
    {
      "cell_type": "code",
      "source": [],
      "metadata": {
        "id": "w8K4TdM--4Kd"
      },
      "execution_count": null,
      "outputs": []
    }
  ]
}